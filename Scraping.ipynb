{
 "cells": [
  {
   "cell_type": "code",
   "execution_count": 1,
   "id": "55ec3f09-a212-40e2-aa60-a1125cbd8732",
   "metadata": {},
   "outputs": [],
   "source": [
    "from selenium import webdriver\n",
    "from selenium.webdriver.chrome.service import Service\n",
    "from bs4 import BeautifulSoup\n",
    "import pandas as pd\n",
    "import time\n",
    "import os"
   ]
  },
  {
   "cell_type": "code",
   "execution_count": 3,
   "id": "7825f09e-9921-46ad-becb-f05569f46cec",
   "metadata": {},
   "outputs": [],
   "source": [
    "\n",
    "# === Setup Selenium WebDriver ===\n",
    "driver_path = r\"D:\\chromedriver-win64\\chromedriver-win64\\chromedriver.exe\"  # <-- Update this path\n",
    "options = webdriver.ChromeOptions()\n",
    "options.add_argument(\"--headless\")\n",
    "options.add_argument(\"--disable-gpu\")\n",
    "options.add_argument(\"--no-sandbox\")\n",
    "options.add_argument(\"window-size=1920x1080\")\n",
    "options.add_argument(\"user-agent=Mozilla/5.0\")\n",
    "service = Service(driver_path)\n",
    "driver = webdriver.Chrome(service=service, options=options)\n"
   ]
  },
  {
   "cell_type": "code",
   "execution_count": 4,
   "id": "f42fe920-cb3d-4284-953e-d265acd877bb",
   "metadata": {},
   "outputs": [],
   "source": [
    "# === Scraper for Amazon.eg - Men Jeans ===\n",
    "def scrape_amazon_men_jeans(url):\n",
    "    driver.get(url)\n",
    "    time.sleep(3)  # Wait for JS content to load\n",
    "    soup = BeautifulSoup(driver.page_source, \"html.parser\")\n",
    "\n",
    "    products = soup.find_all(\"div\", {\"data-asin\": True})\n",
    "    data = []\n",
    "\n",
    "    for product in products:\n",
    "        name_tag = product.find(\"span\", class_=\"a-text-normal\")\n",
    "        name = name_tag.text.strip() if name_tag else None\n",
    "\n",
    "        price_whole = product.find(\"span\", class_=\"a-price-whole\")\n",
    "        price_fraction = product.find(\"span\", class_=\"a-price-fraction\")\n",
    "        if price_whole:\n",
    "            price = price_whole.text.strip()\n",
    "            if price_fraction:\n",
    "                price += \".\" + price_fraction.text.strip()\n",
    "        else:\n",
    "            price = None\n",
    "\n",
    "        rating_tag = product.find(\"span\", class_=\"a-icon-alt\")\n",
    "        rating = rating_tag.text.strip() if rating_tag else None\n",
    "\n",
    "        reviews_tag = product.find(\"span\", class_=\"a-size-base\")\n",
    "        reviews = reviews_tag.text.strip() if reviews_tag else None\n",
    "\n",
    "        link_tag = product.find(\"a\", class_=\"a-link-normal\")\n",
    "        product_url = \"https://www.amazon.eg\" + link_tag.get(\"href\") if link_tag else None\n",
    "\n",
    "        img_tag = product.find(\"img\", class_=\"s-image\")\n",
    "        img_url = img_tag.get(\"src\") if img_tag else None\n",
    "\n",
    "        brand = name.split()[0] if name else None\n",
    "\n",
    "        data.append({\n",
    "            \"Product Name\": name,\n",
    "            \"Price\": price,\n",
    "            \"Rating\": rating,\n",
    "            \"Reviews\": reviews,\n",
    "            \"Product URL\": product_url,\n",
    "            \"Image URL\": img_url,\n",
    "            \"Brand\": brand\n",
    "        })\n",
    "    return data"
   ]
  },
  {
   "cell_type": "code",
   "execution_count": 5,
   "id": "bdd53f90-2761-4045-aab1-7aaefc9ff87c",
   "metadata": {},
   "outputs": [],
   "source": [
    "\n",
    "# === Scraper for Jumia.com.eg - Cellphones ===\n",
    "def scrape_jumia_cellphones(url):\n",
    "    driver.get(url)\n",
    "    time.sleep(3)  # Wait for JS to load\n",
    "    soup = BeautifulSoup(driver.page_source, \"html.parser\")\n",
    "\n",
    "    products = soup.find_all(\"article\", class_=\"prd\")\n",
    "    data = []\n",
    "\n",
    "    for product in products:\n",
    "        name_tag = product.find(\"h3\", class_=\"name\")\n",
    "        name = name_tag.text.strip() if name_tag else None\n",
    "\n",
    "        price_tag = product.find(\"div\", class_=\"prc\")\n",
    "        price = price_tag.text.strip() if price_tag else None\n",
    "\n",
    "        rating_tag = product.find(\"div\", class_=\"stars\")\n",
    "        if rating_tag and rating_tag.has_attr(\"aria-label\"):\n",
    "            rating = rating_tag[\"aria-label\"]\n",
    "        elif rating_tag:\n",
    "            stars = rating_tag.find_all(\"svg\")\n",
    "            rating = len(stars) if stars else None\n",
    "        else:\n",
    "            rating = None\n",
    "\n",
    "        review_tag = product.find(\"div\", class_=\"rev\")\n",
    "        reviews = review_tag.text.strip() if review_tag else None\n",
    "\n",
    "        link_tag = product.find(\"a\", class_=\"core\")\n",
    "        product_url = \"https://www.jumia.com.eg\" + link_tag.get(\"href\") if link_tag else None\n",
    "\n",
    "        img_tag = product.find(\"img\")\n",
    "        img_url = img_tag.get(\"data-src\") or img_tag.get(\"src\") if img_tag else None\n",
    "\n",
    "        brand = name.split()[0] if name else None\n",
    "\n",
    "        data.append({\n",
    "            \"Product Name\": name,\n",
    "            \"Price\": price,\n",
    "            \"Rating\": rating,\n",
    "            \"Reviews\": reviews,\n",
    "            \"Product URL\": product_url,\n",
    "            \"Image URL\": img_url,\n",
    "            \"Brand\": brand\n",
    "        })\n",
    "    return data\n"
   ]
  },
  {
   "cell_type": "code",
   "execution_count": 6,
   "id": "93bb7be0-319f-44b6-83e9-c38dbdba8c99",
   "metadata": {},
   "outputs": [],
   "source": [
    "\n",
    "\n",
    "# === Main execution ===\n",
    "\n",
    "all_amazon_data = []\n",
    "all_jumia_data = []\n",
    "\n",
    "# Number of pages to scrape\n",
    "amazon_pages = 5\n",
    "jumia_pages = 5\n"
   ]
  },
  {
   "cell_type": "code",
   "execution_count": 7,
   "id": "923862cd-62c1-494f-aafd-28cbfbdce190",
   "metadata": {},
   "outputs": [
    {
     "name": "stdout",
     "output_type": "stream",
     "text": [
      "Scraping Amazon.eg Men Jeans...\n",
      "  Amazon page 1\n",
      "  Amazon page 2\n",
      "  Amazon page 3\n",
      "  Amazon page 4\n",
      "  Amazon page 5\n"
     ]
    }
   ],
   "source": [
    "\n",
    "# Scrape Amazon Men Jeans\n",
    "print(\"Scraping Amazon.eg Men Jeans...\")\n",
    "for page in range(1, amazon_pages + 1):\n",
    "    url = f\"https://www.amazon.eg/s?k=men+jeans&page={page}\"\n",
    "    print(f\"  Amazon page {page}\")\n",
    "    page_data = scrape_amazon_men_jeans(url)\n",
    "    all_amazon_data.extend(page_data)\n",
    "    time.sleep(2)\n"
   ]
  },
  {
   "cell_type": "code",
   "execution_count": 8,
   "id": "1f93b040-8b22-46ea-a7b3-262f7b62c2f0",
   "metadata": {},
   "outputs": [
    {
     "name": "stdout",
     "output_type": "stream",
     "text": [
      "Amazon data saved to C:\\Users\\agama\\Desktop\\Konecta\\Second Task\\Second Trial\\amazon_men_jeans.csv\n"
     ]
    }
   ],
   "source": [
    "# Save Amazon data\n",
    "amazon_df = pd.DataFrame(all_amazon_data)\n",
    "amazon_csv = os.path.join(os.getcwd(), \"amazon_men_jeans.csv\")\n",
    "amazon_df.to_csv(amazon_csv, index=False)\n",
    "print(f\"Amazon data saved to {amazon_csv}\")"
   ]
  },
  {
   "cell_type": "code",
   "execution_count": 9,
   "id": "d9025172-1411-45bf-94c0-f30c897534bb",
   "metadata": {},
   "outputs": [
    {
     "name": "stdout",
     "output_type": "stream",
     "text": [
      "Scraping Jumia.com.eg Cellphones...\n",
      "  Jumia page 1\n",
      "  Jumia page 2\n",
      "  Jumia page 3\n",
      "  Jumia page 4\n",
      "  Jumia page 5\n"
     ]
    }
   ],
   "source": [
    "\n",
    "# Scrape Jumia Cellphones\n",
    "print(\"Scraping Jumia.com.eg Cellphones...\")\n",
    "for page in range(1, jumia_pages + 1):\n",
    "    url = f\"https://www.jumia.com.eg/smartphones/?page={page}\"\n",
    "    print(f\"  Jumia page {page}\")\n",
    "    page_data = scrape_jumia_cellphones(url)\n",
    "    all_jumia_data.extend(page_data)\n",
    "    time.sleep(2)\n"
   ]
  },
  {
   "cell_type": "code",
   "execution_count": 10,
   "id": "a4371bdb-09f9-46cd-ace1-b51c809202d9",
   "metadata": {},
   "outputs": [
    {
     "name": "stdout",
     "output_type": "stream",
     "text": [
      "Jumia data saved to C:\\Users\\agama\\Desktop\\Konecta\\Second Task\\Second Trial\\jumia_cellphones.csv\n"
     ]
    }
   ],
   "source": [
    "\n",
    "# Save Jumia data\n",
    "jumia_df = pd.DataFrame(all_jumia_data)\n",
    "jumia_csv = os.path.join(os.getcwd(), \"jumia_cellphones.csv\")\n",
    "jumia_df.to_csv(jumia_csv, index=False)\n",
    "print(f\"Jumia data saved to {jumia_csv}\")\n"
   ]
  },
  {
   "cell_type": "code",
   "execution_count": 11,
   "id": "770d6ce3-d67b-488a-8ad9-c1d6ef89272a",
   "metadata": {},
   "outputs": [
    {
     "name": "stdout",
     "output_type": "stream",
     "text": [
      "Scraping complete!\n"
     ]
    }
   ],
   "source": [
    "\n",
    "# Close driver\n",
    "driver.quit()\n",
    "print(\"Scraping complete!\")"
   ]
  },
  {
   "cell_type": "code",
   "execution_count": null,
   "id": "e5fc0899-8204-4351-ab63-ea7da98b6274",
   "metadata": {},
   "outputs": [],
   "source": []
  }
 ],
 "metadata": {
  "kernelspec": {
   "display_name": "Python 3 (ipykernel)",
   "language": "python",
   "name": "python3"
  },
  "language_info": {
   "codemirror_mode": {
    "name": "ipython",
    "version": 3
   },
   "file_extension": ".py",
   "mimetype": "text/x-python",
   "name": "python",
   "nbconvert_exporter": "python",
   "pygments_lexer": "ipython3",
   "version": "3.12.7"
  }
 },
 "nbformat": 4,
 "nbformat_minor": 5
}
